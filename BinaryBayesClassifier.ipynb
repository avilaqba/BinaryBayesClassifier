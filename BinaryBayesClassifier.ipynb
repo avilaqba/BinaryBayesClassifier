{
 "cells": [
  {
   "cell_type": "markdown",
   "metadata": {},
   "source": [
    "## Bayes classifier for Binary Classification from scratch"
   ]
  },
  {
   "cell_type": "code",
   "execution_count": 1,
   "metadata": {},
   "outputs": [],
   "source": [
    "import numpy as np\n",
    "import pandas as pd\n",
    "import matplotlib.pyplot as plt\n",
    "import matplotlib\n",
    "import math\n",
    "import random\n",
    "from sklearn.model_selection import KFold\n",
    "import warnings\n",
    "warnings.filterwarnings('ignore')"
   ]
  },
  {
   "cell_type": "code",
   "execution_count": 2,
   "metadata": {},
   "outputs": [
    {
     "data": {
      "text/html": [
       "<div>\n",
       "<style scoped>\n",
       "    .dataframe tbody tr th:only-of-type {\n",
       "        vertical-align: middle;\n",
       "    }\n",
       "\n",
       "    .dataframe tbody tr th {\n",
       "        vertical-align: top;\n",
       "    }\n",
       "\n",
       "    .dataframe thead th {\n",
       "        text-align: right;\n",
       "    }\n",
       "</style>\n",
       "<table border=\"1\" class=\"dataframe\">\n",
       "  <thead>\n",
       "    <tr style=\"text-align: right;\">\n",
       "      <th></th>\n",
       "      <th>x1</th>\n",
       "      <th>x2</th>\n",
       "      <th>y</th>\n",
       "    </tr>\n",
       "  </thead>\n",
       "  <tbody>\n",
       "    <tr>\n",
       "      <th>0</th>\n",
       "      <td>3.472481</td>\n",
       "      <td>3.680828</td>\n",
       "      <td>1.0</td>\n",
       "    </tr>\n",
       "    <tr>\n",
       "      <th>1</th>\n",
       "      <td>6.270101</td>\n",
       "      <td>2.378943</td>\n",
       "      <td>1.0</td>\n",
       "    </tr>\n",
       "    <tr>\n",
       "      <th>2</th>\n",
       "      <td>6.116114</td>\n",
       "      <td>5.097277</td>\n",
       "      <td>1.0</td>\n",
       "    </tr>\n",
       "    <tr>\n",
       "      <th>3</th>\n",
       "      <td>5.232966</td>\n",
       "      <td>5.115128</td>\n",
       "      <td>1.0</td>\n",
       "    </tr>\n",
       "    <tr>\n",
       "      <th>4</th>\n",
       "      <td>3.655956</td>\n",
       "      <td>0.912040</td>\n",
       "      <td>1.0</td>\n",
       "    </tr>\n",
       "    <tr>\n",
       "      <th>...</th>\n",
       "      <td>...</td>\n",
       "      <td>...</td>\n",
       "      <td>...</td>\n",
       "    </tr>\n",
       "    <tr>\n",
       "      <th>395</th>\n",
       "      <td>-0.478637</td>\n",
       "      <td>1.164457</td>\n",
       "      <td>0.0</td>\n",
       "    </tr>\n",
       "    <tr>\n",
       "      <th>396</th>\n",
       "      <td>5.652354</td>\n",
       "      <td>2.375530</td>\n",
       "      <td>1.0</td>\n",
       "    </tr>\n",
       "    <tr>\n",
       "      <th>397</th>\n",
       "      <td>4.841827</td>\n",
       "      <td>3.260956</td>\n",
       "      <td>1.0</td>\n",
       "    </tr>\n",
       "    <tr>\n",
       "      <th>398</th>\n",
       "      <td>6.149805</td>\n",
       "      <td>3.134701</td>\n",
       "      <td>1.0</td>\n",
       "    </tr>\n",
       "    <tr>\n",
       "      <th>399</th>\n",
       "      <td>2.933962</td>\n",
       "      <td>1.017688</td>\n",
       "      <td>0.0</td>\n",
       "    </tr>\n",
       "  </tbody>\n",
       "</table>\n",
       "<p>400 rows × 3 columns</p>\n",
       "</div>"
      ],
      "text/plain": [
       "           x1        x2    y\n",
       "0    3.472481  3.680828  1.0\n",
       "1    6.270101  2.378943  1.0\n",
       "2    6.116114  5.097277  1.0\n",
       "3    5.232966  5.115128  1.0\n",
       "4    3.655956  0.912040  1.0\n",
       "..        ...       ...  ...\n",
       "395 -0.478637  1.164457  0.0\n",
       "396  5.652354  2.375530  1.0\n",
       "397  4.841827  3.260956  1.0\n",
       "398  6.149805  3.134701  1.0\n",
       "399  2.933962  1.017688  0.0\n",
       "\n",
       "[400 rows x 3 columns]"
      ]
     },
     "execution_count": 2,
     "metadata": {},
     "output_type": "execute_result"
    }
   ],
   "source": [
    "train1 = pd.read_csv('train1.csv', index_col=0)\n",
    "train2 = pd.read_csv('train2.csv', index_col=0)\n",
    "train3 = pd.read_csv('train3.csv', index_col=0)\n",
    "\n",
    "test1 = pd.read_csv('test1.csv', index_col=0)\n",
    "test2 = pd.read_csv('test2.csv', index_col=0)\n",
    "test2"
   ]
  },
  {
   "cell_type": "code",
   "execution_count": 3,
   "metadata": {},
   "outputs": [
    {
     "data": {
      "text/html": [
       "<div>\n",
       "<style scoped>\n",
       "    .dataframe tbody tr th:only-of-type {\n",
       "        vertical-align: middle;\n",
       "    }\n",
       "\n",
       "    .dataframe tbody tr th {\n",
       "        vertical-align: top;\n",
       "    }\n",
       "\n",
       "    .dataframe thead th {\n",
       "        text-align: right;\n",
       "    }\n",
       "</style>\n",
       "<table border=\"1\" class=\"dataframe\">\n",
       "  <thead>\n",
       "    <tr style=\"text-align: right;\">\n",
       "      <th></th>\n",
       "      <th>x1</th>\n",
       "      <th>x2</th>\n",
       "      <th>y</th>\n",
       "    </tr>\n",
       "  </thead>\n",
       "  <tbody>\n",
       "    <tr>\n",
       "      <th>2</th>\n",
       "      <td>4.330579</td>\n",
       "      <td>4.413520</td>\n",
       "      <td>1.0</td>\n",
       "    </tr>\n",
       "    <tr>\n",
       "      <th>4</th>\n",
       "      <td>3.819236</td>\n",
       "      <td>4.541018</td>\n",
       "      <td>1.0</td>\n",
       "    </tr>\n",
       "    <tr>\n",
       "      <th>5</th>\n",
       "      <td>3.200349</td>\n",
       "      <td>2.999862</td>\n",
       "      <td>1.0</td>\n",
       "    </tr>\n",
       "    <tr>\n",
       "      <th>7</th>\n",
       "      <td>4.430816</td>\n",
       "      <td>3.592408</td>\n",
       "      <td>1.0</td>\n",
       "    </tr>\n",
       "    <tr>\n",
       "      <th>8</th>\n",
       "      <td>3.769091</td>\n",
       "      <td>2.995902</td>\n",
       "      <td>1.0</td>\n",
       "    </tr>\n",
       "  </tbody>\n",
       "</table>\n",
       "</div>"
      ],
      "text/plain": [
       "         x1        x2    y\n",
       "2  4.330579  4.413520  1.0\n",
       "4  3.819236  4.541018  1.0\n",
       "5  3.200349  2.999862  1.0\n",
       "7  4.430816  3.592408  1.0\n",
       "8  3.769091  2.995902  1.0"
      ]
     },
     "execution_count": 3,
     "metadata": {},
     "output_type": "execute_result"
    }
   ],
   "source": [
    "# Getting the data for each class\n",
    "train1_c0 = train1[train1.y == 0.0]\n",
    "train1_c1 = train1[train1.y == 1.0]\n",
    "train2_c0 = train2[train2.y == 0.0]\n",
    "train2_c1 = train2[train2.y == 1.0]\n",
    "train2_c1.head()"
   ]
  },
  {
   "cell_type": "markdown",
   "metadata": {},
   "source": [
    "#### A function in order to calculate covariance matrices"
   ]
  },
  {
   "cell_type": "code",
   "execution_count": 4,
   "metadata": {},
   "outputs": [],
   "source": [
    "def cov_matrix(data):\n",
    "    n = len(data)\n",
    "    # calculating means, variances, and covariances\n",
    "    mu1 = data.x1.mean()\n",
    "    mu2 = data.x2.mean()\n",
    "    var_x1 = ((data.x1 - mu1)**2).sum()/(n-1)\n",
    "    var_x2 = ((data.x2 - mu2)**2).sum()/(n-1)\n",
    "    cov_x1x2 = ((data.x1 - mu1)*(data.x2 - mu2)).sum()/(n-1)\n",
    "    \n",
    "    #constructing the cov matrix\n",
    "    covmat = np.array([round(var_x1,6), round(cov_x1x2,6), round(cov_x1x2,6), round(var_x2,6)]).reshape(-1,2)\n",
    "    return(covmat)"
   ]
  },
  {
   "cell_type": "code",
   "execution_count": 5,
   "metadata": {},
   "outputs": [],
   "source": [
    "def plot_cov_matrix(cov_mtrx):\n",
    "    alpha = ['x1', 'x2']\n",
    "    fig = plt.figure()\n",
    "    ax = fig.add_subplot(111)\n",
    "    cax = ax.matshow(cov_mtrx, interpolation='nearest')\n",
    "    fig.colorbar(cax)\n",
    "    ax.set_xticklabels(['']+alpha)\n",
    "    ax.set_yticklabels(['']+alpha)"
   ]
  },
  {
   "cell_type": "markdown",
   "metadata": {},
   "source": [
    "#### Plotting a cov matrix"
   ]
  },
  {
   "cell_type": "code",
   "execution_count": 6,
   "metadata": {},
   "outputs": [
    {
     "data": {
      "text/plain": [
       "array([[ 0.65161 , -0.019441],\n",
       "       [-0.019441,  0.365065]])"
      ]
     },
     "execution_count": 6,
     "metadata": {},
     "output_type": "execute_result"
    }
   ],
   "source": [
    "cov_matrix(train1_c0)"
   ]
  },
  {
   "cell_type": "code",
   "execution_count": 7,
   "metadata": {
    "scrolled": false
   },
   "outputs": [
    {
     "data": {
      "image/png": "[encoded data removed]",
      "text/plain": [
       "<Figure size 432x288 with 2 Axes>"
      ]
     },
     "metadata": {
      "needs_background": "light"
     },
     "output_type": "display_data"
    }
   ],
   "source": [
    "plot_cov_matrix(cov_matrix(train1_c0))"
   ]
  },
  {
   "cell_type": "markdown",
   "metadata": {},
   "source": [
    "* A covariance value of -0.019441 (close to zero)indicates that the two variables (x1, x2) are almost not correlated.\n",
    "* x1 has higher variance compared to x2."
   ]
  },
  {
   "cell_type": "markdown",
   "metadata": {},
   "source": [
    "#### Double checking the cov matrix with the cov function of pandas"
   ]
  },
  {
   "cell_type": "code",
   "execution_count": 8,
   "metadata": {},
   "outputs": [
    {
     "data": {
      "text/html": [
       "<div>\n",
       "<style scoped>\n",
       "    .dataframe tbody tr th:only-of-type {\n",
       "        vertical-align: middle;\n",
       "    }\n",
       "\n",
       "    .dataframe tbody tr th {\n",
       "        vertical-align: top;\n",
       "    }\n",
       "\n",
       "    .dataframe thead th {\n",
       "        text-align: right;\n",
       "    }\n",
       "</style>\n",
       "<table border=\"1\" class=\"dataframe\">\n",
       "  <thead>\n",
       "    <tr style=\"text-align: right;\">\n",
       "      <th></th>\n",
       "      <th>x1</th>\n",
       "      <th>x2</th>\n",
       "    </tr>\n",
       "  </thead>\n",
       "  <tbody>\n",
       "    <tr>\n",
       "      <th>x1</th>\n",
       "      <td>0.651610</td>\n",
       "      <td>-0.019441</td>\n",
       "    </tr>\n",
       "    <tr>\n",
       "      <th>x2</th>\n",
       "      <td>-0.019441</td>\n",
       "      <td>0.365065</td>\n",
       "    </tr>\n",
       "  </tbody>\n",
       "</table>\n",
       "</div>"
      ],
      "text/plain": [
       "          x1        x2\n",
       "x1  0.651610 -0.019441\n",
       "x2 -0.019441  0.365065"
      ]
     },
     "execution_count": 8,
     "metadata": {},
     "output_type": "execute_result"
    }
   ],
   "source": [
    "train1_c0[['x1','x2']].cov()"
   ]
  },
  {
   "cell_type": "markdown",
   "metadata": {},
   "source": [
    "Results are the same."
   ]
  },
  {
   "cell_type": "markdown",
   "metadata": {},
   "source": [
    "### Plotting feature distributions in each dataset\n"
   ]
  },
  {
   "cell_type": "code",
   "execution_count": 9,
   "metadata": {},
   "outputs": [
    {
     "data": {
      "image/png": "[encoded data removed]",
      "text/plain": [
       "<Figure size 864x720 with 4 Axes>"
      ]
     },
     "metadata": {
      "needs_background": "light"
     },
     "output_type": "display_data"
    }
   ],
   "source": [
    "fig, ax = plt.subplots(2, 2)\n",
    "\n",
    "ax[0, 0].hist(train1_c0.x1, color='red', alpha=0.5)\n",
    "ax[0, 0].hist(train1_c1.x1, color='blue', alpha=0.5)\n",
    "ax[0, 0].set_title('train1 - x1')\n",
    "\n",
    "ax[0, 1].hist(train1_c0.x2, color='red', alpha=0.5)\n",
    "ax[0, 1].hist(train1_c1.x2, color='blue', alpha=0.5)\n",
    "ax[0, 1].set_title('train1 - x2')\n",
    "\n",
    "ax[1, 0].hist(train2_c0.x1, color='red', alpha=0.5)\n",
    "ax[1, 0].hist(train2_c1.x1, color='blue', alpha=0.5)\n",
    "ax[1, 0].set_title('train2 - x1')\n",
    "\n",
    "ax[1, 1].hist(train2_c0.x2, color='red', alpha=0.5)\n",
    "ax[1, 1].hist(train2_c1.x2, color='blue', alpha=0.5)\n",
    "ax[1, 1].set_title('train2 - x2')\n",
    "\n",
    "plt.figlegend(['class 0','class 1'], loc = 'right')\n",
    "plt.gcf().set_size_inches(12,10)\n",
    "plt.show()"
   ]
  },
  {
   "cell_type": "markdown",
   "metadata": {},
   "source": [
    "### Plotting feature scatter plots in each dataset"
   ]
  },
  {
   "cell_type": "code",
   "execution_count": 10,
   "metadata": {},
   "outputs": [
    {
     "data": {
      "image/png": "[encoded data removed]",
      "text/plain": [
       "<Figure size 648x288 with 2 Axes>"
      ]
     },
     "metadata": {
      "needs_background": "light"
     },
     "output_type": "display_data"
    }
   ],
   "source": [
    "fig, ax = plt.subplots(1, 2)\n",
    "\n",
    "ax[0].scatter(train1_c0.x1, train1_c0.x2, color='blue', alpha=0.5)\n",
    "ax[0].scatter(train1_c1.x1, train1_c1.x2, color='red', alpha=0.5)\n",
    "ax[0].set_title('train1')\n",
    "ax[0].set_xlabel('x1')\n",
    "ax[0].set_ylabel('x2')\n",
    "\n",
    "ax[1].scatter(train2_c0.x1, train2_c0.x2, color='blue', alpha=0.5)\n",
    "ax[1].scatter(train2_c1.x1, train2_c1.x2, color='red', alpha=0.5)\n",
    "ax[1].set_title('train2')\n",
    "ax[1].set_xlabel('x1')\n",
    "ax[1].set_ylabel('x2')\n",
    "\n",
    "plt.figlegend(['class 0','class 1'], loc = 'upper center')\n",
    "\n",
    "plt.gcf().set_size_inches(9,4)\n",
    "plt.show()"
   ]
  },
  {
   "cell_type": "markdown",
   "metadata": {},
   "source": [
    "##### Means:"
   ]
  },
  {
   "cell_type": "code",
   "execution_count": 11,
   "metadata": {
    "scrolled": true
   },
   "outputs": [
    {
     "data": {
      "text/plain": [
       "array([[1.18814556],\n",
       "       [0.74442316]])"
      ]
     },
     "execution_count": 11,
     "metadata": {},
     "output_type": "execute_result"
    }
   ],
   "source": [
    "train1_mu0_t = train1_c0[['x1','x2']].mean().to_numpy()\n",
    "train1_mu0 = train1_mu0_t.reshape(-1,1)\n",
    "train1_mu0"
   ]
  },
  {
   "cell_type": "markdown",
   "metadata": {},
   "source": [
    "Means are different!"
   ]
  },
  {
   "cell_type": "code",
   "execution_count": 12,
   "metadata": {},
   "outputs": [
    {
     "data": {
      "text/plain": [
       "array([[-1.38466842],\n",
       "       [ 3.07103112]])"
      ]
     },
     "execution_count": 12,
     "metadata": {},
     "output_type": "execute_result"
    }
   ],
   "source": [
    "train1_mu1_t = train1_c1[['x1','x2']].mean().to_numpy()\n",
    "train1_mu1 = train1_mu1_t.reshape(-1,1)\n",
    "train1_mu1"
   ]
  },
  {
   "cell_type": "markdown",
   "metadata": {},
   "source": [
    "Means are different!"
   ]
  },
  {
   "cell_type": "code",
   "execution_count": 13,
   "metadata": {},
   "outputs": [
    {
     "data": {
      "text/plain": [
       "array([[1.],\n",
       "       [1.]])"
      ]
     },
     "execution_count": 13,
     "metadata": {},
     "output_type": "execute_result"
    }
   ],
   "source": [
    "train2_mu0_t = train2_c0[['x1','x2']].mean().to_numpy()\n",
    "train2_mu0 = train2_mu0_t.reshape(-1,1)\n",
    "train2_mu0"
   ]
  },
  {
   "cell_type": "markdown",
   "metadata": {},
   "source": [
    "Means are the same!"
   ]
  },
  {
   "cell_type": "code",
   "execution_count": 14,
   "metadata": {},
   "outputs": [
    {
     "data": {
      "text/plain": [
       "array([[4.5],\n",
       "       [3. ]])"
      ]
     },
     "execution_count": 14,
     "metadata": {},
     "output_type": "execute_result"
    }
   ],
   "source": [
    "train2_mu1_t = train2_c1[['x1','x2']].mean().to_numpy()\n",
    "train2_mu1 = train2_mu1_t.reshape(-1,1)\n",
    "train2_mu1"
   ]
  },
  {
   "cell_type": "markdown",
   "metadata": {},
   "source": [
    "Means are different!"
   ]
  },
  {
   "cell_type": "markdown",
   "metadata": {},
   "source": [
    "#### Covariance Matrices: "
   ]
  },
  {
   "cell_type": "code",
   "execution_count": 15,
   "metadata": {},
   "outputs": [
    {
     "data": {
      "text/plain": [
       "array([[ 0.65161 , -0.019441],\n",
       "       [-0.019441,  0.365065]])"
      ]
     },
     "execution_count": 15,
     "metadata": {},
     "output_type": "execute_result"
    }
   ],
   "source": [
    "train1_cov0 = cov_matrix(train1_c0)\n",
    "train1_cov0"
   ]
  },
  {
   "cell_type": "code",
   "execution_count": 16,
   "metadata": {},
   "outputs": [
    {
     "data": {
      "text/plain": [
       "array([[0.4132  , 0.013337],\n",
       "       [0.013337, 1.495048]])"
      ]
     },
     "execution_count": 16,
     "metadata": {},
     "output_type": "execute_result"
    }
   ],
   "source": [
    "train1_cov1 = cov_matrix(train1_c1)\n",
    "train1_cov1"
   ]
  },
  {
   "cell_type": "code",
   "execution_count": 17,
   "metadata": {},
   "outputs": [
    {
     "data": {
      "text/plain": [
       "array([[ 1.299525e+00, -3.200000e-05],\n",
       "       [-3.200000e-05,  1.300476e+00]])"
      ]
     },
     "execution_count": 17,
     "metadata": {},
     "output_type": "execute_result"
    }
   ],
   "source": [
    "train2_cov0 = cov_matrix(train2_c0)\n",
    "train2_cov0"
   ]
  },
  {
   "cell_type": "code",
   "execution_count": 18,
   "metadata": {},
   "outputs": [
    {
     "data": {
      "text/plain": [
       "array([[ 8.99978e-01, -2.00000e-05],\n",
       "       [-2.00000e-05,  9.00022e-01]])"
      ]
     },
     "execution_count": 18,
     "metadata": {},
     "output_type": "execute_result"
    }
   ],
   "source": [
    "train2_cov1 = cov_matrix(train2_c1)\n",
    "train2_cov1"
   ]
  },
  {
   "cell_type": "markdown",
   "metadata": {},
   "source": [
    "#### Case1 and 2"
   ]
  },
  {
   "cell_type": "code",
   "execution_count": 19,
   "metadata": {},
   "outputs": [],
   "source": [
    "def trainBayes(TrainingSamples, TrainingLabel) :\n",
    "\n",
    "    temp = TrainingSamples[TrainingSamples.y==TrainingLabel][['x1','x2']]\n",
    "    # calculating the parameters for the given class\n",
    "    prior = len(temp)/len(TrainingSamples)\n",
    "    mu_t = np.mean(temp)\n",
    "    mu = np.transpose(mu_t)\n",
    "    var = np.var(temp)\n",
    "\n",
    "    if abs(var[0]-var[1])<10**-3: # different means µi!=µj but constant variance for all data features in each class\n",
    "        constant_var = True\n",
    "        print ('Class %s has constant variance for all data features;'%TrainingLabel)\n",
    "        \n",
    "        # since the varances are really close, we'll consider the euclidian distance\n",
    "        W_i = 0\n",
    "        # Here W_i has is set to zero. This does not affect anything in the calculations later on.\n",
    "        # This was done in order to have constant number of outputs from this function.\n",
    "        wi_t = -2*mu_t\n",
    "        wi_0 = np.dot(mu_t, mu)\n",
    "        \n",
    "        # Hereby, I am getting constant_var as a parameter to use later.\n",
    "        return(W_i, wi_t, wi_0, constant_var)\n",
    "\n",
    "    else: # Quadradic Function\n",
    "        constant_var = False\n",
    "        \n",
    "        cov = cov_matrix(temp)\n",
    "        cov_inv = np.linalg.inv(cov)\n",
    "        cov_det = np.linalg.det(cov)\n",
    "        \n",
    "        W_i = cov_inv/-2           \n",
    "        wi_t = np.dot(mu_t, cov_inv)\n",
    "        wi_0 = ((np.dot(np.dot(mu_t, cov_inv), mu) - np.log(cov_det))/-2) + np.log(prior)\n",
    "        \n",
    "        return(W_i, wi_t, wi_0, constant_var)\n"
   ]
  },
  {
   "cell_type": "code",
   "execution_count": 20,
   "metadata": {},
   "outputs": [
    {
     "name": "stdout",
     "output_type": "stream",
     "text": [
      "For train1:\n",
      "\n",
      "g0_X = Xt W0 X + [1.887 2.140] X + (-3.329)\n",
      "\n",
      "Where W0 =\n",
      "\t  [-0.769 -0.041]\n",
      "\t  [-0.041 -1.372]\n",
      " \n",
      "g1_X = Xt W1 X + [-3.418 2.085] X + (-6.502)\n",
      "\n",
      "Where W1 =\n",
      "\t  [-1.210 0.011]\n",
      "\t  [0.011 -0.335]\n",
      " \n",
      "For train2:\n",
      "\n",
      "Class 0 has constant variance for all data features;\n",
      "g0_X = [-2.000 -2.000] X + (2.000)\n",
      "\n",
      "Class 1 has constant variance for all data features;\n",
      "g1_X = [-9.000 -6.000] X + (29.250)\n",
      "\n"
     ]
    }
   ],
   "source": [
    "trained = [] # A list for trained parameters\n",
    "q = 0\n",
    "for train in ['train1', 'train2']:\n",
    "    trained.append([]) # a list within the \"trained\" list for each dataset \n",
    "    \n",
    "    print ('For %s:\\n'%train)\n",
    "    \n",
    "    for cls in [0,1]:\n",
    "\n",
    "        W_i, wi_t, wi_0, constant_var = trainBayes(eval(train), cls)\n",
    "        parameters = {'W_i':W_i, 'wi_t': wi_t, 'wi_0': wi_0, 'constant_var': constant_var}\n",
    "        trained[q].append(parameters) # parameters dictionnary is added to the list\n",
    "        \n",
    "        # if variances are constant, then use the following formula\n",
    "        if constant_var:\n",
    "            print('g%s_X = [%.3f %.3f] X + (%.3f)\\n'%(cls, wi_t[0], wi_t[1], wi_0))\n",
    "            \n",
    "        # otherwise, general case:\n",
    "        else:\n",
    "            print('g%s_X = Xt W%s X + [%.3f %.3f] X + (%.3f)\\n'%(cls, cls, wi_t[0], wi_t[1], wi_0))\n",
    "            \n",
    "            print ('Where W%s ='%cls)\n",
    "            for a in range(W_i.shape[0]):\n",
    "                print ('\\t  [%.3f %.3f]'%(W_i[a,0], W_i[a,1]))\n",
    "            print (' ')\n",
    "            \n",
    "    q += 1 "
   ]
  },
  {
   "cell_type": "markdown",
   "metadata": {},
   "source": [
    "* Parameters for the first dataset (train1) are stored in a list as in the first element of \"trained\" list:\n",
    "* In this list \"trained[0]\" there are two dictionaries for the two classes' parameters."
   ]
  },
  {
   "cell_type": "code",
   "execution_count": 21,
   "metadata": {
    "scrolled": true
   },
   "outputs": [
    {
     "data": {
      "text/plain": [
       "[{'W_i': array([[-0.76855125, -0.04092807],\n",
       "         [-0.04092807, -1.37179867]]),\n",
       "  'wi_t': array([1.88723713, 2.1396544 ]),\n",
       "  'wi_0': -3.3294970378972,\n",
       "  'constant_var': False},\n",
       " {'W_i': array([[-1.21041629,  0.01079786],\n",
       "         [ 0.01079786, -0.33453375]]),\n",
       "  'wi_t': array([-3.41837156,  2.08463002]),\n",
       "  'wi_0': -6.501761175114304,\n",
       "  'constant_var': False}]"
      ]
     },
     "execution_count": 21,
     "metadata": {},
     "output_type": "execute_result"
    }
   ],
   "source": [
    "trained[0]"
   ]
  },
  {
   "cell_type": "code",
   "execution_count": 22,
   "metadata": {},
   "outputs": [],
   "source": [
    "def predict_class(test, parameters):\n",
    "    preds = []\n",
    "    # looping over samples\n",
    "    for index, sample in test.iterrows():\n",
    "        \n",
    "        X_t = sample.values\n",
    "        X = X_t.reshape(-1,1)\n",
    "        G_X = []\n",
    "        \n",
    "        for cls in [0,1]:\n",
    "            # unpacking the parameters from the dictionary\n",
    "            W_i = parameters[cls]['W_i']\n",
    "            wi_t = parameters[cls]['wi_t']\n",
    "            wi_0 = parameters[cls]['wi_0']    \n",
    "            \n",
    "            # defining the gi_X formula based on constant_var parameter\n",
    "            if parameters[cls]['constant_var']:\n",
    "                gi_X = np.dot(wi_t, X) + wi_0\n",
    "                \n",
    "            else:\n",
    "                gi_X = (np.dot(np.dot(X_t, W_i), X) + np.dot(wi_t, X) + wi_0)/-1\n",
    "                \n",
    "            G_X.append(gi_X)\n",
    "        # finding the class    \n",
    "        min_g = min(G_X)\n",
    "        if G_X[0] == min_g:\n",
    "            preds.append(0)\n",
    "        else:\n",
    "            preds.append(1)\n",
    "    return(preds)"
   ]
  },
  {
   "cell_type": "code",
   "execution_count": 23,
   "metadata": {},
   "outputs": [],
   "source": [
    "# computing error\n",
    "def compute_error(y, y_hat):\n",
    "    return np.sum([1 if i!=j else 0 for i, j in zip(y, y_hat)]) / len(y)"
   ]
  },
  {
   "cell_type": "code",
   "execution_count": 24,
   "metadata": {},
   "outputs": [
    {
     "name": "stdout",
     "output_type": "stream",
     "text": [
      "The error for test1 is 0.015\n",
      "\n",
      "The error for test2 is 0.0225\n",
      "\n"
     ]
    }
   ],
   "source": [
    "t = 0\n",
    "for test in [test1, test2]:\n",
    "    X_test = test[['x1','x2']]\n",
    "    y_hat = predict_class(X_test, trained[t])\n",
    "    \n",
    "    error = compute_error(test.y, y_hat)\n",
    "    print ('The error for test%s is %s\\n'%(t+1, error))\n",
    "    \n",
    "    t+=1"
   ]
  },
  {
   "cell_type": "markdown",
   "metadata": {},
   "source": [
    "### Evaluation of Bayes classifier using 3-fold cross-validation"
   ]
  },
  {
   "cell_type": "markdown",
   "metadata": {},
   "source": [
    "#### Combining the training set and the test"
   ]
  },
  {
   "cell_type": "code",
   "execution_count": 25,
   "metadata": {},
   "outputs": [
    {
     "data": {
      "text/html": [
       "<div>\n",
       "<style scoped>\n",
       "    .dataframe tbody tr th:only-of-type {\n",
       "        vertical-align: middle;\n",
       "    }\n",
       "\n",
       "    .dataframe tbody tr th {\n",
       "        vertical-align: top;\n",
       "    }\n",
       "\n",
       "    .dataframe thead th {\n",
       "        text-align: right;\n",
       "    }\n",
       "</style>\n",
       "<table border=\"1\" class=\"dataframe\">\n",
       "  <thead>\n",
       "    <tr style=\"text-align: right;\">\n",
       "      <th></th>\n",
       "      <th>x1</th>\n",
       "      <th>x2</th>\n",
       "      <th>y</th>\n",
       "    </tr>\n",
       "  </thead>\n",
       "  <tbody>\n",
       "    <tr>\n",
       "      <th>0</th>\n",
       "      <td>1.941228</td>\n",
       "      <td>1.846020</td>\n",
       "      <td>0.0</td>\n",
       "    </tr>\n",
       "    <tr>\n",
       "      <th>1</th>\n",
       "      <td>1.495839</td>\n",
       "      <td>2.698817</td>\n",
       "      <td>0.0</td>\n",
       "    </tr>\n",
       "    <tr>\n",
       "      <th>2</th>\n",
       "      <td>4.330579</td>\n",
       "      <td>4.413520</td>\n",
       "      <td>1.0</td>\n",
       "    </tr>\n",
       "    <tr>\n",
       "      <th>3</th>\n",
       "      <td>2.737539</td>\n",
       "      <td>2.038206</td>\n",
       "      <td>0.0</td>\n",
       "    </tr>\n",
       "    <tr>\n",
       "      <th>4</th>\n",
       "      <td>3.819236</td>\n",
       "      <td>4.541018</td>\n",
       "      <td>1.0</td>\n",
       "    </tr>\n",
       "    <tr>\n",
       "      <th>...</th>\n",
       "      <td>...</td>\n",
       "      <td>...</td>\n",
       "      <td>...</td>\n",
       "    </tr>\n",
       "    <tr>\n",
       "      <th>2395</th>\n",
       "      <td>-0.478637</td>\n",
       "      <td>1.164457</td>\n",
       "      <td>0.0</td>\n",
       "    </tr>\n",
       "    <tr>\n",
       "      <th>2396</th>\n",
       "      <td>5.652354</td>\n",
       "      <td>2.375530</td>\n",
       "      <td>1.0</td>\n",
       "    </tr>\n",
       "    <tr>\n",
       "      <th>2397</th>\n",
       "      <td>4.841827</td>\n",
       "      <td>3.260956</td>\n",
       "      <td>1.0</td>\n",
       "    </tr>\n",
       "    <tr>\n",
       "      <th>2398</th>\n",
       "      <td>6.149805</td>\n",
       "      <td>3.134701</td>\n",
       "      <td>1.0</td>\n",
       "    </tr>\n",
       "    <tr>\n",
       "      <th>2399</th>\n",
       "      <td>2.933962</td>\n",
       "      <td>1.017688</td>\n",
       "      <td>0.0</td>\n",
       "    </tr>\n",
       "  </tbody>\n",
       "</table>\n",
       "<p>2400 rows × 3 columns</p>\n",
       "</div>"
      ],
      "text/plain": [
       "            x1        x2    y\n",
       "0     1.941228  1.846020  0.0\n",
       "1     1.495839  2.698817  0.0\n",
       "2     4.330579  4.413520  1.0\n",
       "3     2.737539  2.038206  0.0\n",
       "4     3.819236  4.541018  1.0\n",
       "...        ...       ...  ...\n",
       "2395 -0.478637  1.164457  0.0\n",
       "2396  5.652354  2.375530  1.0\n",
       "2397  4.841827  3.260956  1.0\n",
       "2398  6.149805  3.134701  1.0\n",
       "2399  2.933962  1.017688  0.0\n",
       "\n",
       "[2400 rows x 3 columns]"
      ]
     },
     "execution_count": 25,
     "metadata": {},
     "output_type": "execute_result"
    }
   ],
   "source": [
    "dataset1 = pd.concat([train1, test1], axis=0).reset_index(drop=True)\n",
    "dataset2 = pd.concat([train2, test2], axis=0).reset_index(drop=True)\n",
    "dataset2"
   ]
  },
  {
   "cell_type": "markdown",
   "metadata": {},
   "source": [
    "#### Performing a 3-fold cross validation"
   ]
  },
  {
   "cell_type": "markdown",
   "metadata": {},
   "source": [
    "#### Computing gi(x)"
   ]
  },
  {
   "cell_type": "code",
   "execution_count": 26,
   "metadata": {},
   "outputs": [
    {
     "name": "stdout",
     "output_type": "stream",
     "text": [
      "For dataset1:\n",
      "\n",
      "g0_X = Xt W0 X + [1.903 2.137] X + (-3.362)\n",
      "\n",
      "Where W0 =\n",
      "\t  [-0.767 -0.033]\n",
      "\t  [-0.033 -1.374]\n",
      " \n",
      "g1_X = Xt W1 X + [-3.441 2.027] X + (-6.424)\n",
      "\n",
      "Where W1 =\n",
      "\t  [-1.249 -0.008]\n",
      "\t  [-0.008 -0.339]\n",
      " \n",
      "For dataset2:\n",
      "\n",
      "g0_X = Xt W0 X + [0.771 0.769] X + (-1.202)\n",
      "\n",
      "Where W0 =\n",
      "\t  [-0.385 -0.000]\n",
      "\t  [-0.000 -0.385]\n",
      " \n",
      "Class 1 has constant variance for all data features;\n",
      "g1_X = [-9.000 -6.000] X + (29.250)\n",
      "\n"
     ]
    }
   ],
   "source": [
    "# similar to as explained above, hereby the gi_X functions are being printed.\n",
    "trainedII = []\n",
    "q = 0\n",
    "for train in ['dataset1', 'dataset2']:\n",
    "    trainedII.append([])\n",
    "    \n",
    "    print ('For %s:\\n'%train)\n",
    "    \n",
    "    for cls in [0,1]:\n",
    "\n",
    "        W_i, wi_t, wi_0, constant_var = trainBayes(eval(train), cls)\n",
    "        \n",
    "        if constant_var:\n",
    "            print('g%s_X = [%.3f %.3f] X + (%.3f)\\n'%(cls, wi_t[0], wi_t[1], wi_0))\n",
    "        else:\n",
    "            print('g%s_X = Xt W%s X + [%.3f %.3f] X + (%.3f)\\n'%(cls, cls, wi_t[0], wi_t[1], wi_0))\n",
    "            \n",
    "            print ('Where W%s ='%cls)\n",
    "            for a in range(W_i.shape[0]):\n",
    "                print ('\\t  [%.3f %.3f]'%(W_i[a,0], W_i[a,1]))\n",
    "            print (' ')\n",
    "            \n",
    "    q += 1 "
   ]
  },
  {
   "cell_type": "markdown",
   "metadata": {},
   "source": [
    "#### Finding the classification error rate and computing the average of testing results"
   ]
  },
  {
   "cell_type": "code",
   "execution_count": 27,
   "metadata": {},
   "outputs": [
    {
     "name": "stdout",
     "output_type": "stream",
     "text": [
      "\n",
      "For dataset1:\n",
      "\tThe error on the test set (fold 1)  is 0.011\n",
      "\tThe error on the test set (fold 2)  is 0.017\n",
      "\tThe error on the test set (fold 3)  is 0.020\n",
      "\tThe average error is 0.016\n",
      "\n",
      "For dataset2:\n",
      "Class 0 has constant variance for all data features;\n",
      "\tThe error on the test set (fold 1)  is 0.499\n",
      "\tThe error on the test set (fold 2)  is 0.015\n",
      "Class 0 has constant variance for all data features;\n",
      "\tThe error on the test set (fold 3)  is 0.492\n",
      "\tThe average error is 0.336\n"
     ]
    }
   ],
   "source": [
    "kf = KFold(n_splits=3, random_state=314, shuffle=True)\n",
    "\n",
    "for data in ['dataset1','dataset2']:\n",
    "    print ('\\nFor '+data+':')\n",
    "    dataset = eval(data)\n",
    "    \n",
    "    errors = []\n",
    "    t = 0\n",
    "    for train_index, test_index in kf.split(dataset):\n",
    "        train, test = dataset.loc[train_index], dataset.loc[test_index]\n",
    "\n",
    "        trainedIII = []\n",
    "        for cls in [0,1]:\n",
    "            W_i, wi_t, wi_0, constant_var = trainBayes(train, cls)\n",
    "            parameters = {'W_i':W_i, 'wi_t': wi_t, 'wi_0': wi_0, 'constant_var': constant_var}\n",
    "            trainedIII.append(parameters)\n",
    "\n",
    "        X_test = train[['x1','x2']]\n",
    "        y_test = train[['y']]\n",
    "        y_hat = predict_class(X_test, trainedIII)\n",
    "\n",
    "        error = compute_error(y_test.y, y_hat)\n",
    "        errors.append(error)\n",
    "        print ('\\tThe error on the test set (fold %s)  is %.3f'%(t+1, error))\n",
    "        t+=1\n",
    "    print ('\\tThe average error is %.3f'%np.mean(errors))"
   ]
  },
  {
   "cell_type": "markdown",
   "metadata": {},
   "source": [
    "#### Comparison: \n",
    "Considering the results of K-Fold cross-validation, we can see that the average error is lower for dataset2, and it is almost the same for dataset1. Thus, it is recommended to do cross-validation to lower the error on unseen test set, and prevent overfitting. "
   ]
  },
  {
   "cell_type": "markdown",
   "metadata": {},
   "source": [
    " "
   ]
  },
  {
   "cell_type": "markdown",
   "metadata": {},
   "source": [
    "### Semi-Supervised Learning on Dataset 3 using Bayes Classifier"
   ]
  },
  {
   "cell_type": "markdown",
   "metadata": {},
   "source": [
    "#### Ploting the training Dataset 3"
   ]
  },
  {
   "cell_type": "code",
   "execution_count": 28,
   "metadata": {},
   "outputs": [
    {
     "data": {
      "image/png": "[encoded data removed]",
      "text/plain": [
       "<Figure size 432x288 with 1 Axes>"
      ]
     },
     "metadata": {
      "needs_background": "light"
     },
     "output_type": "display_data"
    }
   ],
   "source": [
    "plt.scatter(train3.x1, train3.x2, color='blue')\n",
    "plt.title('train3')\n",
    "plt.xlabel('x1')\n",
    "plt.ylabel('x2')\n",
    "plt.show()"
   ]
  },
  {
   "cell_type": "markdown",
   "metadata": {},
   "source": [
    "* As a conclusion, this datasets is similar to dataset 1. "
   ]
  },
  {
   "cell_type": "markdown",
   "metadata": {},
   "source": [
    "#### Training a Bayes classifier using the training Dataset 1"
   ]
  },
  {
   "cell_type": "markdown",
   "metadata": {},
   "source": [
    "I have already trained my classifier on training Dataset 1, and I have stored its parameters. So hereby I will use it to assign pseudo-label for training Dataset 3."
   ]
  },
  {
   "cell_type": "code",
   "execution_count": 29,
   "metadata": {},
   "outputs": [
    {
     "data": {
      "text/plain": [
       "[{'W_i': array([[-0.76855125, -0.04092807],\n",
       "         [-0.04092807, -1.37179867]]),\n",
       "  'wi_t': array([1.88723713, 2.1396544 ]),\n",
       "  'wi_0': -3.3294970378972,\n",
       "  'constant_var': False},\n",
       " {'W_i': array([[-1.21041629,  0.01079786],\n",
       "         [ 0.01079786, -0.33453375]]),\n",
       "  'wi_t': array([-3.41837156,  2.08463002]),\n",
       "  'wi_0': -6.501761175114304,\n",
       "  'constant_var': False}]"
      ]
     },
     "execution_count": 29,
     "metadata": {},
     "output_type": "execute_result"
    }
   ],
   "source": [
    "# The parameters are stored in trained[0]\n",
    "trained[0]"
   ]
  },
  {
   "cell_type": "code",
   "execution_count": 30,
   "metadata": {},
   "outputs": [
    {
     "data": {
      "text/html": [
       "<div>\n",
       "<style scoped>\n",
       "    .dataframe tbody tr th:only-of-type {\n",
       "        vertical-align: middle;\n",
       "    }\n",
       "\n",
       "    .dataframe tbody tr th {\n",
       "        vertical-align: top;\n",
       "    }\n",
       "\n",
       "    .dataframe thead th {\n",
       "        text-align: right;\n",
       "    }\n",
       "</style>\n",
       "<table border=\"1\" class=\"dataframe\">\n",
       "  <thead>\n",
       "    <tr style=\"text-align: right;\">\n",
       "      <th></th>\n",
       "      <th>x1</th>\n",
       "      <th>x2</th>\n",
       "      <th>y</th>\n",
       "      <th>y_hat</th>\n",
       "    </tr>\n",
       "  </thead>\n",
       "  <tbody>\n",
       "    <tr>\n",
       "      <th>0</th>\n",
       "      <td>2.328009</td>\n",
       "      <td>-0.054717</td>\n",
       "      <td>0.0</td>\n",
       "      <td>0</td>\n",
       "    </tr>\n",
       "    <tr>\n",
       "      <th>1</th>\n",
       "      <td>-0.826687</td>\n",
       "      <td>4.044049</td>\n",
       "      <td>1.0</td>\n",
       "      <td>1</td>\n",
       "    </tr>\n",
       "    <tr>\n",
       "      <th>2</th>\n",
       "      <td>-1.367783</td>\n",
       "      <td>2.711673</td>\n",
       "      <td>1.0</td>\n",
       "      <td>1</td>\n",
       "    </tr>\n",
       "    <tr>\n",
       "      <th>3</th>\n",
       "      <td>1.181950</td>\n",
       "      <td>0.929444</td>\n",
       "      <td>0.0</td>\n",
       "      <td>0</td>\n",
       "    </tr>\n",
       "    <tr>\n",
       "      <th>4</th>\n",
       "      <td>-1.632349</td>\n",
       "      <td>3.952147</td>\n",
       "      <td>1.0</td>\n",
       "      <td>1</td>\n",
       "    </tr>\n",
       "    <tr>\n",
       "      <th>...</th>\n",
       "      <td>...</td>\n",
       "      <td>...</td>\n",
       "      <td>...</td>\n",
       "      <td>...</td>\n",
       "    </tr>\n",
       "    <tr>\n",
       "      <th>795</th>\n",
       "      <td>-1.182370</td>\n",
       "      <td>2.306965</td>\n",
       "      <td>1.0</td>\n",
       "      <td>1</td>\n",
       "    </tr>\n",
       "    <tr>\n",
       "      <th>796</th>\n",
       "      <td>-1.356024</td>\n",
       "      <td>2.949347</td>\n",
       "      <td>1.0</td>\n",
       "      <td>1</td>\n",
       "    </tr>\n",
       "    <tr>\n",
       "      <th>797</th>\n",
       "      <td>1.178004</td>\n",
       "      <td>0.776796</td>\n",
       "      <td>0.0</td>\n",
       "      <td>0</td>\n",
       "    </tr>\n",
       "    <tr>\n",
       "      <th>798</th>\n",
       "      <td>-1.261943</td>\n",
       "      <td>2.137456</td>\n",
       "      <td>1.0</td>\n",
       "      <td>1</td>\n",
       "    </tr>\n",
       "    <tr>\n",
       "      <th>799</th>\n",
       "      <td>-0.869612</td>\n",
       "      <td>4.461603</td>\n",
       "      <td>1.0</td>\n",
       "      <td>1</td>\n",
       "    </tr>\n",
       "  </tbody>\n",
       "</table>\n",
       "<p>800 rows × 4 columns</p>\n",
       "</div>"
      ],
      "text/plain": [
       "           x1        x2    y  y_hat\n",
       "0    2.328009 -0.054717  0.0      0\n",
       "1   -0.826687  4.044049  1.0      1\n",
       "2   -1.367783  2.711673  1.0      1\n",
       "3    1.181950  0.929444  0.0      0\n",
       "4   -1.632349  3.952147  1.0      1\n",
       "..        ...       ...  ...    ...\n",
       "795 -1.182370  2.306965  1.0      1\n",
       "796 -1.356024  2.949347  1.0      1\n",
       "797  1.178004  0.776796  0.0      0\n",
       "798 -1.261943  2.137456  1.0      1\n",
       "799 -0.869612  4.461603  1.0      1\n",
       "\n",
       "[800 rows x 4 columns]"
      ]
     },
     "execution_count": 30,
     "metadata": {},
     "output_type": "execute_result"
    }
   ],
   "source": [
    "X_train3 = train3[['x1','x2']]\n",
    "train3['y_hat'] = predict_class(X_train3, trained[0])\n",
    "train3"
   ]
  },
  {
   "cell_type": "code",
   "execution_count": 31,
   "metadata": {},
   "outputs": [
    {
     "data": {
      "text/html": [
       "<div>\n",
       "<style scoped>\n",
       "    .dataframe tbody tr th:only-of-type {\n",
       "        vertical-align: middle;\n",
       "    }\n",
       "\n",
       "    .dataframe tbody tr th {\n",
       "        vertical-align: top;\n",
       "    }\n",
       "\n",
       "    .dataframe thead th {\n",
       "        text-align: right;\n",
       "    }\n",
       "</style>\n",
       "<table border=\"1\" class=\"dataframe\">\n",
       "  <thead>\n",
       "    <tr style=\"text-align: right;\">\n",
       "      <th></th>\n",
       "      <th>x1</th>\n",
       "      <th>x2</th>\n",
       "      <th>y</th>\n",
       "    </tr>\n",
       "  </thead>\n",
       "  <tbody>\n",
       "    <tr>\n",
       "      <th>0</th>\n",
       "      <td>1.143987</td>\n",
       "      <td>0.339646</td>\n",
       "      <td>0.0</td>\n",
       "    </tr>\n",
       "    <tr>\n",
       "      <th>1</th>\n",
       "      <td>2.284493</td>\n",
       "      <td>1.129224</td>\n",
       "      <td>0.0</td>\n",
       "    </tr>\n",
       "    <tr>\n",
       "      <th>2</th>\n",
       "      <td>1.053601</td>\n",
       "      <td>0.573296</td>\n",
       "      <td>0.0</td>\n",
       "    </tr>\n",
       "    <tr>\n",
       "      <th>3</th>\n",
       "      <td>-0.652288</td>\n",
       "      <td>3.116746</td>\n",
       "      <td>1.0</td>\n",
       "    </tr>\n",
       "    <tr>\n",
       "      <th>4</th>\n",
       "      <td>-0.223255</td>\n",
       "      <td>3.463650</td>\n",
       "      <td>1.0</td>\n",
       "    </tr>\n",
       "    <tr>\n",
       "      <th>...</th>\n",
       "      <td>...</td>\n",
       "      <td>...</td>\n",
       "      <td>...</td>\n",
       "    </tr>\n",
       "    <tr>\n",
       "      <th>2395</th>\n",
       "      <td>-1.182370</td>\n",
       "      <td>2.306965</td>\n",
       "      <td>1.0</td>\n",
       "    </tr>\n",
       "    <tr>\n",
       "      <th>2396</th>\n",
       "      <td>-1.356024</td>\n",
       "      <td>2.949347</td>\n",
       "      <td>1.0</td>\n",
       "    </tr>\n",
       "    <tr>\n",
       "      <th>2397</th>\n",
       "      <td>1.178004</td>\n",
       "      <td>0.776796</td>\n",
       "      <td>0.0</td>\n",
       "    </tr>\n",
       "    <tr>\n",
       "      <th>2398</th>\n",
       "      <td>-1.261943</td>\n",
       "      <td>2.137456</td>\n",
       "      <td>1.0</td>\n",
       "    </tr>\n",
       "    <tr>\n",
       "      <th>2399</th>\n",
       "      <td>-0.869612</td>\n",
       "      <td>4.461603</td>\n",
       "      <td>1.0</td>\n",
       "    </tr>\n",
       "  </tbody>\n",
       "</table>\n",
       "<p>2400 rows × 3 columns</p>\n",
       "</div>"
      ],
      "text/plain": [
       "            x1        x2    y\n",
       "0     1.143987  0.339646  0.0\n",
       "1     2.284493  1.129224  0.0\n",
       "2     1.053601  0.573296  0.0\n",
       "3    -0.652288  3.116746  1.0\n",
       "4    -0.223255  3.463650  1.0\n",
       "...        ...       ...  ...\n",
       "2395 -1.182370  2.306965  1.0\n",
       "2396 -1.356024  2.949347  1.0\n",
       "2397  1.178004  0.776796  0.0\n",
       "2398 -1.261943  2.137456  1.0\n",
       "2399 -0.869612  4.461603  1.0\n",
       "\n",
       "[2400 rows x 3 columns]"
      ]
     },
     "execution_count": 31,
     "metadata": {},
     "output_type": "execute_result"
    }
   ],
   "source": [
    "train3_new = train3.drop('y', axis=1)\n",
    "train3_new = train3_new.rename(columns={'y_hat':'y'})\n",
    "train13 = pd.concat([train1,train3_new]).reset_index(drop=True)\n",
    "train13"
   ]
  },
  {
   "cell_type": "code",
   "execution_count": 32,
   "metadata": {},
   "outputs": [
    {
     "name": "stdout",
     "output_type": "stream",
     "text": [
      "A new Bayes classifier on both training Dataset 1 + pseudo-labeled Dataset 3 were performed\n",
      "Parameters: \n",
      "\n",
      "[{'W_i': array([[-0.78998069, -0.01622076],\n",
      "       [-0.01622076, -1.34184065]]), 'wi_t': array([1.93919546, 2.06496753]), 'wi_0': -3.3771956583916882, 'constant_var': False}, {'W_i': array([[-1.27478431,  0.00966216],\n",
      "       [ 0.00966216, -0.3310533 ]]), 'wi_t': array([-3.57270972,  2.06008506]), 'wi_0': -6.57245540811025, 'constant_var': False}]\n"
     ]
    }
   ],
   "source": [
    "trainedIIII = []\n",
    "for cls in [0,1]:\n",
    "    W_i, wi_t, wi_0, constant_var = trainBayes(train13, cls)\n",
    "    parameters = {'W_i':W_i, 'wi_t': wi_t, 'wi_0': wi_0, 'constant_var': constant_var}\n",
    "    trainedIIII.append(parameters)\n",
    "\n",
    "print ('A new Bayes classifier on both training Dataset 1 + pseudo-labeled Dataset 3 were performed\\nParameters: \\n')\n",
    "print(trainedIIII)"
   ]
  },
  {
   "cell_type": "code",
   "execution_count": 33,
   "metadata": {},
   "outputs": [
    {
     "name": "stdout",
     "output_type": "stream",
     "text": [
      "Based on Bayes classifier on both training Dataset 1 + pseudo-labeled Dataset 3;\n",
      "The error for test1 is 0.24\n",
      "\n"
     ]
    }
   ],
   "source": [
    "X_test = test1[['x1','x2']]\n",
    "y_hat = predict_class(X_test, trainedIIII)\n",
    "\n",
    "error = compute_error(test.y, y_hat)\n",
    "print ('Based on Bayes classifier on both training Dataset 1 + pseudo-labeled Dataset 3;')\n",
    "print ('The error for test1 is %s\\n'%(error))\n",
    "    "
   ]
  },
  {
   "cell_type": "markdown",
   "metadata": {},
   "source": [
    "#### As a conclusion, adding  pseudo-labeled data did not help!"
   ]
  },
  {
   "cell_type": "markdown",
   "metadata": {},
   "source": [
    " "
   ]
  }
 ],
 "metadata": {
  "kernelspec": {
   "display_name": "Python 3 (ipykernel)",
   "language": "python",
   "name": "python3"
  },
  "language_info": {
   "codemirror_mode": {
    "name": "ipython",
    "version": 3
   },
   "file_extension": ".py",
   "mimetype": "text/x-python",
   "name": "python",
   "nbconvert_exporter": "python",
   "pygments_lexer": "ipython3",
   "version": "3.9.7"
  }
 },
 "nbformat": 4,
 "nbformat_minor": 4
}
